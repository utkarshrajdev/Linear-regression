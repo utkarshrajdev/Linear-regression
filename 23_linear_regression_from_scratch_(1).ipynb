{
  "cells": [
    {
      "cell_type": "markdown",
      "metadata": {
        "id": "view-in-github",
        "colab_type": "text"
      },
      "source": [
        "<a href=\"https://colab.research.google.com/github/utkarshrajdev/Linear-regression/blob/main/23_linear_regression_from_scratch_(1).ipynb\" target=\"_parent\"><img src=\"https://colab.research.google.com/assets/colab-badge.svg\" alt=\"Open In Colab\"/></a>"
      ]
    },
    {
      "cell_type": "markdown",
      "metadata": {
        "_uuid": "9c54e23a2cab75ddc84c26952de1b2967df23477",
        "id": "bcy0Z_7AK43Z"
      },
      "source": [
        "<center><h1>Linear Regression from Scratch using Python</h1></center><br>\n"
      ]
    },
    {
      "cell_type": "markdown",
      "metadata": {
        "_uuid": "482212e0fa6d74bc0422dbc204da95ed64a9c9c1",
        "id": "HpFDo1jdK43a"
      },
      "source": [
        "![](https://www.biomedware.com/files/documentation/spacestat/Statistics/Multivariate_Modeling/Regression/regression_line.png)"
      ]
    },
    {
      "cell_type": "markdown",
      "metadata": {
        "_uuid": "4d7f903094ad3c0802c0b4717ef2013279ecf1b9",
        "id": "tXTi50cMK43a"
      },
      "source": [
        "In this notebook I will try to implement Linear Regression for prediction without relying to Python's easy-to-use scikit-learn library. This notebook aims to create a Linear Regression model without the help of in-built Linear Regression libraries to help us fully understand how it works behind the scene.\n",
        "<br>**Beware: Mathematical mumbo-jumbos are present in this notebook**"
      ]
    },
    {
      "cell_type": "markdown",
      "metadata": {
        "_uuid": "a3bddd24cb2e258073bf50c5c53690ea71dd37c3",
        "id": "lMBr99EVK43a"
      },
      "source": [
        "## Introduction : Linear Regression"
      ]
    },
    {
      "cell_type": "markdown",
      "metadata": {
        "_uuid": "08837761f9eee19cc364dca05ca87ba5366cbda6",
        "id": "rLli3cmnK43b"
      },
      "source": [
        "Linear Regression is the oldest, most simple, and widely used supervised machine learning algorithm for analysis. This is basically the starting point of every aspiring data scientist (that includes yours truly). In technical terms, LR is a linear approach to modelling the relationship between a dependent variable and one independent variables."
      ]
    },
    {
      "cell_type": "markdown",
      "metadata": {
        "_uuid": "b46095337e2652eaac57f78240b52e8bb85473f7",
        "id": "nF0f5NqOK43b"
      },
      "source": [
        "### Prerequisites\n",
        "Before going any further I am assuming that you have atleast the very basic knowledge regarding the following items, if not then you might want to read a little.\n",
        "1. Python programming\n",
        "2. Basic Algebra\n",
        "3. Basic Statistics (Statiscial terms, e.g., Independent variable, Dependent, etc.)\n",
        "\n"
      ]
    },
    {
      "cell_type": "code",
      "execution_count": null,
      "metadata": {
        "_uuid": "a4373f27a5337e16f8caa3d37eb0abc9f9ac0b17",
        "id": "ccVUCZp-K43b"
      },
      "outputs": [],
      "source": [
        "# import python modules\n",
        "import pandas as pd\n",
        "import numpy as np\n",
        "import matplotlib.pyplot as plt\n",
        "import seaborn as sns\n",
        "sns.set()\n",
        "\n",
        "import time"
      ]
    },
    {
      "cell_type": "markdown",
      "metadata": {
        "_uuid": "2e271f6dd3e68136b03b33f41c7ae8f0cdb973c9",
        "id": "wZhkVJuVK43c"
      },
      "source": [
        "### Objectives\n",
        "Througout this whole \"tutorial\" you/we should be able to achieve the following:\n",
        " - To understand the theory behind Linear Regression (Mathematical part)\n",
        " - To be able to create a Simple Linear Regression model without using built-in Machine Learning libraries.\n",
        " - To implement our Linear Regression model for predicting the price of a car in our automobile dataset (Analytics use case)"
      ]
    },
    {
      "cell_type": "markdown",
      "metadata": {
        "_uuid": "ca2f13bf4b82893027785e92dc0123403c3c06da",
        "id": "oceSWzt7K43c"
      },
      "source": [
        "### Linear Regression demystified"
      ]
    },
    {
      "cell_type": "markdown",
      "metadata": {
        "_uuid": "9ce25a40344ca0d0451ec6676ed6e17abd4cd673",
        "id": "a8FNj_MlK43c"
      },
      "source": [
        "Before we get our hands dirty on coding our Linear Regression let us first get to know the underlying operations in a Linear Regression. The following cells are aiming to explain the mathematics behind this legendary algorithm for us to accomplish our very first objective (stated above). So, how does it work? Basically, Linear regression is a method used to define, to measure a relationship between a dependent variable (Y) and independent variable (X). Linear Regression predicts a target variable by estimating a line that best fits the linear relationship between X and Y<br> **Note: A dependent variable is sometimes called outcome variable, sometimes response variable**<br>\n",
        "Linear equation is defined as below:"
      ]
    },
    {
      "cell_type": "markdown",
      "metadata": {
        "_uuid": "7fc49cecf6087cadff65fb7b33a0c76fec152dfe",
        "id": "i36NoI_iK43c"
      },
      "source": [
        "$$\n",
        "Y = \\beta_{0} + \\beta_{1}X\n",
        "$$"
      ]
    },
    {
      "cell_type": "markdown",
      "metadata": {
        "_uuid": "41d4942ca98ce1c97d48d8aea53603d3c28c87ad",
        "id": "kzTwXzKoK43c"
      },
      "source": [
        "Where\n",
        " - Y is the dependent/outcome/response variable\n",
        " - $ \\beta_{0} $ is the Y intercept\n",
        " - $ \\beta_{1} $ is the slope intercept"
      ]
    },
    {
      "cell_type": "markdown",
      "metadata": {
        "_uuid": "667e08496d925009e73d517dd8a89df8d153675a",
        "id": "GLohuUQpK43c"
      },
      "source": [
        "In python code:"
      ]
    },
    {
      "cell_type": "code",
      "execution_count": null,
      "metadata": {
        "_uuid": "796577d0c9faf9d92fcf9c7070bcee04a866fac9",
        "id": "ULrHA7a3K43c"
      },
      "outputs": [],
      "source": [
        "def linear(X, b0, b1):\n",
        "    return [b0+b1*x for x in X]"
      ]
    },
    {
      "cell_type": "markdown",
      "metadata": {
        "_uuid": "ed09579bf1eb2c0d224186f3d2c99b37a24c3b6a",
        "id": "JakbSdHlK43c"
      },
      "source": [
        "#### Ordinary Least Squares"
      ]
    },
    {
      "cell_type": "markdown",
      "metadata": {
        "_uuid": "af722d7d4690d911fc6d69c50ff4a29ba2981210",
        "id": "NwsvoeK3K43c"
      },
      "source": [
        "$ \\beta_{0} $ and $ \\beta_{1} $ are estimated from the training data. The $ \\beta_{1} $ is called a scale factor or coefficient and $ \\beta_{0} $ is called bias coefficient. They are tweaked to find the best fitting line between our variables. We will estimate these coefficients using a method called the<a src = \"https://www.wikiwand.com/en/Ordinary_least_squares\"> Ordinary Least Squares.</a><br>\n",
        "Its definition are as follows:"
      ]
    },
    {
      "cell_type": "markdown",
      "metadata": {
        "_uuid": "833a4ce2aa265a55e5d948cd01a2396a0ad7a5e4",
        "id": "T5PkLfVzK43d"
      },
      "source": [
        "\\begin{align}\n",
        "\\beta_{0} = \\bar y - \\beta_{1}\\bar x\n",
        "\\end{align}\n",
        "<center>Intercept</center>\n",
        "<br>"
      ]
    },
    {
      "cell_type": "markdown",
      "metadata": {
        "_uuid": "8233b4215ac0eabaab4dd714e8df748e8c640953",
        "id": "7cK16Hu9K43d"
      },
      "source": [
        "\\begin{align}\n",
        "\\beta_{1} = \\frac{\\sum_{i=1}^n(x_{i} - \\bar x)(y_{i} - \\bar y)}{\\sum_{i=1}^n(x_{i} - \\bar x)^2}\n",
        "\\end{align}\n",
        "<center>Co-efficient (Slope)</center>"
      ]
    },
    {
      "cell_type": "markdown",
      "metadata": {
        "_uuid": "6830b99db860847b9070608a534f4b0937899e03",
        "id": "KjUsbCi1K43d"
      },
      "source": [
        "Where\n",
        " - $ \\bar y $ is the mean of the dependent/outcome/response variable\n",
        " - $ \\beta_{1} $ is the slope intercept (Defined below)\n",
        " - $ \\bar x $ is the mean of the independent variable"
      ]
    },
    {
      "cell_type": "markdown",
      "metadata": {
        "_uuid": "431a6f45a498a9262d929ac26bebde9deb781cf2",
        "id": "UunhVIIjK43d"
      },
      "source": [
        "To simplify the slope equation above:"
      ]
    },
    {
      "cell_type": "markdown",
      "metadata": {
        "_uuid": "58014dd13d197a96b97c3ae328ee1480f94146af",
        "id": "9gq37GqnK43d"
      },
      "source": [
        "\\begin{align}\n",
        "\\beta_{1} = \\frac{\\sum rise}{\\sum run}\n",
        "\\end{align}"
      ]
    },
    {
      "cell_type": "markdown",
      "metadata": {
        "_uuid": "daa22db9dff4ad044d163a538b62398d4bc59cb4",
        "id": "mCDNqFbRK43d"
      },
      "source": [
        "In python code:"
      ]
    },
    {
      "cell_type": "code",
      "execution_count": null,
      "metadata": {
        "_uuid": "b6d5365253e2c3678728c86aa34359a7e15808a2",
        "id": "FD9vlQXeK43d"
      },
      "outputs": [],
      "source": [
        "# b0 - Intercept\n",
        "def intercept(X, Y, b1):\n",
        "    x_ = np.mean(X)\n",
        "    y_ = np.mean(Y)\n",
        "\n",
        "    return y_-b1*x_"
      ]
    },
    {
      "cell_type": "code",
      "execution_count": null,
      "metadata": {
        "_uuid": "ee86eec1c4d424d1bb69e7ca074bbd71d4a3b904",
        "id": "lwpUqgZBK43d"
      },
      "outputs": [],
      "source": [
        "# b1 - Slope\n",
        "def slope(X, Y):\n",
        "    x_ = np.mean(X)\n",
        "    y_ = np.mean(Y)\n",
        "\n",
        "    rise = sum([(x-x_) * (y-y_) for x,y in zip(X,Y)])\n",
        "    run = sum([(x-x_)**2 for x,y in zip(X,Y)])\n",
        "\n",
        "    return rise / run"
      ]
    },
    {
      "cell_type": "markdown",
      "metadata": {
        "_uuid": "0835ffcd2609deb9256cd79d4b4a2af936bb66a5",
        "id": "KRa8zjiIK43d"
      },
      "source": [
        "Still there? You're doing great. We have now created our Linear Regression model the next section will go step-by-step on how to apply our newly created model into a real dataset."
      ]
    },
    {
      "cell_type": "markdown",
      "metadata": {
        "_uuid": "30a25a25ead9ab92ce425b9d741aa356712e49c5",
        "id": "xEHdRKncK43d"
      },
      "source": [
        "### Linear Regression, up and running"
      ]
    },
    {
      "cell_type": "code",
      "execution_count": null,
      "metadata": {
        "_uuid": "e1e961ab219518f8cf033c86634da7afa161283d",
        "scrolled": true,
        "id": "Sx-M1D0QK43d",
        "outputId": "aef0f9d6-c81e-4be5-874e-f93cdcf2a190"
      },
      "outputs": [
        {
          "data": {
            "text/html": [
              "<div>\n",
              "<style scoped>\n",
              "    .dataframe tbody tr th:only-of-type {\n",
              "        vertical-align: middle;\n",
              "    }\n",
              "\n",
              "    .dataframe tbody tr th {\n",
              "        vertical-align: top;\n",
              "    }\n",
              "\n",
              "    .dataframe thead th {\n",
              "        text-align: right;\n",
              "    }\n",
              "</style>\n",
              "<table border=\"1\" class=\"dataframe\">\n",
              "  <thead>\n",
              "    <tr style=\"text-align: right;\">\n",
              "      <th></th>\n",
              "      <th>symboling</th>\n",
              "      <th>normalized-losses</th>\n",
              "      <th>make</th>\n",
              "      <th>fuel-type</th>\n",
              "      <th>aspiration</th>\n",
              "      <th>num-of-doors</th>\n",
              "      <th>body-style</th>\n",
              "      <th>drive-wheels</th>\n",
              "      <th>engine-location</th>\n",
              "      <th>wheel-base</th>\n",
              "      <th>...</th>\n",
              "      <th>engine-size</th>\n",
              "      <th>fuel-system</th>\n",
              "      <th>bore</th>\n",
              "      <th>stroke</th>\n",
              "      <th>compression-ratio</th>\n",
              "      <th>horsepower</th>\n",
              "      <th>peak-rpm</th>\n",
              "      <th>city-mpg</th>\n",
              "      <th>highway-mpg</th>\n",
              "      <th>price</th>\n",
              "    </tr>\n",
              "  </thead>\n",
              "  <tbody>\n",
              "    <tr>\n",
              "      <th>0</th>\n",
              "      <td>3</td>\n",
              "      <td>?</td>\n",
              "      <td>alfa-romero</td>\n",
              "      <td>gas</td>\n",
              "      <td>std</td>\n",
              "      <td>two</td>\n",
              "      <td>convertible</td>\n",
              "      <td>rwd</td>\n",
              "      <td>front</td>\n",
              "      <td>88.6</td>\n",
              "      <td>...</td>\n",
              "      <td>130</td>\n",
              "      <td>mpfi</td>\n",
              "      <td>3.47</td>\n",
              "      <td>2.68</td>\n",
              "      <td>9.0</td>\n",
              "      <td>111</td>\n",
              "      <td>5000</td>\n",
              "      <td>21</td>\n",
              "      <td>27</td>\n",
              "      <td>13495</td>\n",
              "    </tr>\n",
              "    <tr>\n",
              "      <th>1</th>\n",
              "      <td>3</td>\n",
              "      <td>?</td>\n",
              "      <td>alfa-romero</td>\n",
              "      <td>gas</td>\n",
              "      <td>std</td>\n",
              "      <td>two</td>\n",
              "      <td>convertible</td>\n",
              "      <td>rwd</td>\n",
              "      <td>front</td>\n",
              "      <td>88.6</td>\n",
              "      <td>...</td>\n",
              "      <td>130</td>\n",
              "      <td>mpfi</td>\n",
              "      <td>3.47</td>\n",
              "      <td>2.68</td>\n",
              "      <td>9.0</td>\n",
              "      <td>111</td>\n",
              "      <td>5000</td>\n",
              "      <td>21</td>\n",
              "      <td>27</td>\n",
              "      <td>16500</td>\n",
              "    </tr>\n",
              "    <tr>\n",
              "      <th>2</th>\n",
              "      <td>1</td>\n",
              "      <td>?</td>\n",
              "      <td>alfa-romero</td>\n",
              "      <td>gas</td>\n",
              "      <td>std</td>\n",
              "      <td>two</td>\n",
              "      <td>hatchback</td>\n",
              "      <td>rwd</td>\n",
              "      <td>front</td>\n",
              "      <td>94.5</td>\n",
              "      <td>...</td>\n",
              "      <td>152</td>\n",
              "      <td>mpfi</td>\n",
              "      <td>2.68</td>\n",
              "      <td>3.47</td>\n",
              "      <td>9.0</td>\n",
              "      <td>154</td>\n",
              "      <td>5000</td>\n",
              "      <td>19</td>\n",
              "      <td>26</td>\n",
              "      <td>16500</td>\n",
              "    </tr>\n",
              "    <tr>\n",
              "      <th>3</th>\n",
              "      <td>2</td>\n",
              "      <td>164</td>\n",
              "      <td>audi</td>\n",
              "      <td>gas</td>\n",
              "      <td>std</td>\n",
              "      <td>four</td>\n",
              "      <td>sedan</td>\n",
              "      <td>fwd</td>\n",
              "      <td>front</td>\n",
              "      <td>99.8</td>\n",
              "      <td>...</td>\n",
              "      <td>109</td>\n",
              "      <td>mpfi</td>\n",
              "      <td>3.19</td>\n",
              "      <td>3.4</td>\n",
              "      <td>10.0</td>\n",
              "      <td>102</td>\n",
              "      <td>5500</td>\n",
              "      <td>24</td>\n",
              "      <td>30</td>\n",
              "      <td>13950</td>\n",
              "    </tr>\n",
              "    <tr>\n",
              "      <th>4</th>\n",
              "      <td>2</td>\n",
              "      <td>164</td>\n",
              "      <td>audi</td>\n",
              "      <td>gas</td>\n",
              "      <td>std</td>\n",
              "      <td>four</td>\n",
              "      <td>sedan</td>\n",
              "      <td>4wd</td>\n",
              "      <td>front</td>\n",
              "      <td>99.4</td>\n",
              "      <td>...</td>\n",
              "      <td>136</td>\n",
              "      <td>mpfi</td>\n",
              "      <td>3.19</td>\n",
              "      <td>3.4</td>\n",
              "      <td>8.0</td>\n",
              "      <td>115</td>\n",
              "      <td>5500</td>\n",
              "      <td>18</td>\n",
              "      <td>22</td>\n",
              "      <td>17450</td>\n",
              "    </tr>\n",
              "  </tbody>\n",
              "</table>\n",
              "<p>5 rows × 26 columns</p>\n",
              "</div>"
            ],
            "text/plain": [
              "   symboling normalized-losses         make fuel-type aspiration num-of-doors  \\\n",
              "0          3                 ?  alfa-romero       gas        std          two   \n",
              "1          3                 ?  alfa-romero       gas        std          two   \n",
              "2          1                 ?  alfa-romero       gas        std          two   \n",
              "3          2               164         audi       gas        std         four   \n",
              "4          2               164         audi       gas        std         four   \n",
              "\n",
              "    body-style drive-wheels engine-location  wheel-base  ...  engine-size  \\\n",
              "0  convertible          rwd           front        88.6  ...          130   \n",
              "1  convertible          rwd           front        88.6  ...          130   \n",
              "2    hatchback          rwd           front        94.5  ...          152   \n",
              "3        sedan          fwd           front        99.8  ...          109   \n",
              "4        sedan          4wd           front        99.4  ...          136   \n",
              "\n",
              "   fuel-system  bore  stroke compression-ratio horsepower  peak-rpm city-mpg  \\\n",
              "0         mpfi  3.47    2.68               9.0        111      5000       21   \n",
              "1         mpfi  3.47    2.68               9.0        111      5000       21   \n",
              "2         mpfi  2.68    3.47               9.0        154      5000       19   \n",
              "3         mpfi  3.19     3.4              10.0        102      5500       24   \n",
              "4         mpfi  3.19     3.4               8.0        115      5500       18   \n",
              "\n",
              "  highway-mpg  price  \n",
              "0          27  13495  \n",
              "1          27  16500  \n",
              "2          26  16500  \n",
              "3          30  13950  \n",
              "4          22  17450  \n",
              "\n",
              "[5 rows x 26 columns]"
            ]
          },
          "execution_count": 5,
          "metadata": {},
          "output_type": "execute_result"
        }
      ],
      "source": [
        "data = pd.read_csv(\"Automobile_data.csv\")\n",
        "data.head()"
      ]
    },
    {
      "cell_type": "markdown",
      "metadata": {
        "_uuid": "217cc14dc50931b4d3b38672b6bf541b627894d4",
        "id": "DuuXSLKuK43e"
      },
      "source": [
        "We will use the <a src=\"https://www.kaggle.com/toramky/automobile-dataset\">Automobile dataset</a> to test out our Linear Regression model. For this particular use case we will predict the price column in our dataset. Then later on we will evaluate the performance of our linear regression. Hopefully it will not suck that much. First thing we have to do is explore the data that we have to find some patterns or some anomalies in our data so that we can apply appropriate steps to handle it but we will not be dwelling to much on data exploration, that is not our goal for today."
      ]
    },
    {
      "cell_type": "markdown",
      "metadata": {
        "_uuid": "57a6d29afb5788ba22f0dfce8e889bb3b9de3a2e",
        "id": "w7jQVvaMK43e"
      },
      "source": [
        "#### Exploratory data analysis"
      ]
    },
    {
      "cell_type": "markdown",
      "metadata": {
        "_uuid": "3889df0ce393a4ef17f068898d281ed07b4a5c1c",
        "id": "Et9pGGOvK43e"
      },
      "source": [
        "First things is to know how big of a data we're going to deal with."
      ]
    },
    {
      "cell_type": "code",
      "execution_count": null,
      "metadata": {
        "_uuid": "fbdd5f726ac4d38c51095e205013a12460d27d47",
        "id": "i4POQY8pK43e",
        "outputId": "d72e98ea-143e-4915-eee7-8f9b00fead14"
      },
      "outputs": [
        {
          "name": "stdout",
          "output_type": "stream",
          "text": [
            "Dataset size\n",
            "Rows 205 Columns 26\n"
          ]
        }
      ],
      "source": [
        "print(\"Dataset size\")\n",
        "print(\"Rows {} Columns {}\".format(data.shape[0], data.shape[1]))"
      ]
    },
    {
      "cell_type": "code",
      "execution_count": null,
      "metadata": {
        "_uuid": "89954d79727c3b886e05ddb8e4f9c476433c105c",
        "id": "c5fa5FYyK43e",
        "outputId": "1348b526-0679-4366-f375-552206a4ddde"
      },
      "outputs": [
        {
          "name": "stdout",
          "output_type": "stream",
          "text": [
            "Columns and data types\n"
          ]
        },
        {
          "data": {
            "text/html": [
              "<div>\n",
              "<style scoped>\n",
              "    .dataframe tbody tr th:only-of-type {\n",
              "        vertical-align: middle;\n",
              "    }\n",
              "\n",
              "    .dataframe tbody tr th {\n",
              "        vertical-align: top;\n",
              "    }\n",
              "\n",
              "    .dataframe thead th {\n",
              "        text-align: right;\n",
              "    }\n",
              "</style>\n",
              "<table border=\"1\" class=\"dataframe\">\n",
              "  <thead>\n",
              "    <tr style=\"text-align: right;\">\n",
              "      <th></th>\n",
              "      <th>dtype</th>\n",
              "    </tr>\n",
              "  </thead>\n",
              "  <tbody>\n",
              "    <tr>\n",
              "      <th>symboling</th>\n",
              "      <td>int64</td>\n",
              "    </tr>\n",
              "    <tr>\n",
              "      <th>normalized-losses</th>\n",
              "      <td>object</td>\n",
              "    </tr>\n",
              "    <tr>\n",
              "      <th>make</th>\n",
              "      <td>object</td>\n",
              "    </tr>\n",
              "    <tr>\n",
              "      <th>fuel-type</th>\n",
              "      <td>object</td>\n",
              "    </tr>\n",
              "    <tr>\n",
              "      <th>aspiration</th>\n",
              "      <td>object</td>\n",
              "    </tr>\n",
              "    <tr>\n",
              "      <th>num-of-doors</th>\n",
              "      <td>object</td>\n",
              "    </tr>\n",
              "    <tr>\n",
              "      <th>body-style</th>\n",
              "      <td>object</td>\n",
              "    </tr>\n",
              "    <tr>\n",
              "      <th>drive-wheels</th>\n",
              "      <td>object</td>\n",
              "    </tr>\n",
              "    <tr>\n",
              "      <th>engine-location</th>\n",
              "      <td>object</td>\n",
              "    </tr>\n",
              "    <tr>\n",
              "      <th>wheel-base</th>\n",
              "      <td>float64</td>\n",
              "    </tr>\n",
              "    <tr>\n",
              "      <th>length</th>\n",
              "      <td>float64</td>\n",
              "    </tr>\n",
              "    <tr>\n",
              "      <th>width</th>\n",
              "      <td>float64</td>\n",
              "    </tr>\n",
              "    <tr>\n",
              "      <th>height</th>\n",
              "      <td>float64</td>\n",
              "    </tr>\n",
              "    <tr>\n",
              "      <th>curb-weight</th>\n",
              "      <td>int64</td>\n",
              "    </tr>\n",
              "    <tr>\n",
              "      <th>engine-type</th>\n",
              "      <td>object</td>\n",
              "    </tr>\n",
              "    <tr>\n",
              "      <th>num-of-cylinders</th>\n",
              "      <td>object</td>\n",
              "    </tr>\n",
              "    <tr>\n",
              "      <th>engine-size</th>\n",
              "      <td>int64</td>\n",
              "    </tr>\n",
              "    <tr>\n",
              "      <th>fuel-system</th>\n",
              "      <td>object</td>\n",
              "    </tr>\n",
              "    <tr>\n",
              "      <th>bore</th>\n",
              "      <td>object</td>\n",
              "    </tr>\n",
              "    <tr>\n",
              "      <th>stroke</th>\n",
              "      <td>object</td>\n",
              "    </tr>\n",
              "    <tr>\n",
              "      <th>compression-ratio</th>\n",
              "      <td>float64</td>\n",
              "    </tr>\n",
              "    <tr>\n",
              "      <th>horsepower</th>\n",
              "      <td>object</td>\n",
              "    </tr>\n",
              "    <tr>\n",
              "      <th>peak-rpm</th>\n",
              "      <td>object</td>\n",
              "    </tr>\n",
              "    <tr>\n",
              "      <th>city-mpg</th>\n",
              "      <td>int64</td>\n",
              "    </tr>\n",
              "    <tr>\n",
              "      <th>highway-mpg</th>\n",
              "      <td>int64</td>\n",
              "    </tr>\n",
              "    <tr>\n",
              "      <th>price</th>\n",
              "      <td>object</td>\n",
              "    </tr>\n",
              "  </tbody>\n",
              "</table>\n",
              "</div>"
            ],
            "text/plain": [
              "                     dtype\n",
              "symboling            int64\n",
              "normalized-losses   object\n",
              "make                object\n",
              "fuel-type           object\n",
              "aspiration          object\n",
              "num-of-doors        object\n",
              "body-style          object\n",
              "drive-wheels        object\n",
              "engine-location     object\n",
              "wheel-base         float64\n",
              "length             float64\n",
              "width              float64\n",
              "height             float64\n",
              "curb-weight          int64\n",
              "engine-type         object\n",
              "num-of-cylinders    object\n",
              "engine-size          int64\n",
              "fuel-system         object\n",
              "bore                object\n",
              "stroke              object\n",
              "compression-ratio  float64\n",
              "horsepower          object\n",
              "peak-rpm            object\n",
              "city-mpg             int64\n",
              "highway-mpg          int64\n",
              "price               object"
            ]
          },
          "execution_count": 7,
          "metadata": {},
          "output_type": "execute_result"
        }
      ],
      "source": [
        "print(\"Columns and data types\")\n",
        "pd.DataFrame(data.dtypes).rename(columns = {0:'dtype'})"
      ]
    },
    {
      "cell_type": "markdown",
      "metadata": {
        "_uuid": "cbae2ab9dc70ec9521e48153e9fbe9f568d30013",
        "id": "7DSfoGAWK43e"
      },
      "source": [
        "That's a lot of columns, since we are using Linear Regression which can only deal with TWO variables, as defined above, we will only select two columns: **price** and a column that we will know later on."
      ]
    },
    {
      "cell_type": "code",
      "execution_count": null,
      "metadata": {
        "_uuid": "186b9d284f8b8be6aeda43a87b5635ceebda84ad",
        "id": "D20NtPQBK43e",
        "outputId": "3f971301-fd3a-4e4d-ceb3-5336cffc0dc8"
      },
      "outputs": [
        {
          "data": {
            "text/plain": [
              "?        4\n",
              "7775     2\n",
              "18150    2\n",
              "7609     2\n",
              "16500    2\n",
              "Name: price, dtype: int64"
            ]
          },
          "execution_count": 9,
          "metadata": {},
          "output_type": "execute_result"
        }
      ],
      "source": [
        "data['price'].value_counts()[:5]"
      ]
    },
    {
      "cell_type": "markdown",
      "metadata": {
        "_uuid": "ba83f4980cc37025d0c739b683f486737b1e3289",
        "id": "-hy5LV11K43e"
      },
      "source": [
        "Eureka! the error was cause by a '?' value in the **price** column. To simplify things we will just remove those rows to prevent further inconvenience."
      ]
    },
    {
      "cell_type": "code",
      "execution_count": null,
      "metadata": {
        "_uuid": "344bc6bbe4fd4f379ada35fbaa8646767968c435",
        "id": "NLmnIH9OK43e"
      },
      "outputs": [],
      "source": [
        "data = data.loc[data['price']!='?']\n",
        "data[['price']] = data[['price']].astype(int)"
      ]
    },
    {
      "cell_type": "markdown",
      "metadata": {
        "_uuid": "3255440f31402e3d42f843ba04c7b77051e017f1",
        "id": "s6dwOQtSK43e"
      },
      "source": [
        "Let's now decide which variable to use as our independent variable. One easy thing to do is by correlation. The most correlated variable to **price** will be our independent variable."
      ]
    },
    {
      "cell_type": "code",
      "execution_count": null,
      "metadata": {
        "_uuid": "f71b903aa17a6165e62d61221eb4b95478f6e691",
        "id": "eNZgRWDWK43e",
        "outputId": "92e717d2-b7fb-4c96-a135-c444cbcb4ab2"
      },
      "outputs": [
        {
          "data": {
            "image/png": "[encoded data removed]",
            "text/plain": [
              "<Figure size 720x576 with 2 Axes>"
            ]
          },
          "metadata": {},
          "output_type": "display_data"
        }
      ],
      "source": [
        "plt.figure(figsize=(10,8))\n",
        "sns.heatmap(data.corr(), annot=True)\n",
        "plt.show()"
      ]
    },
    {
      "cell_type": "markdown",
      "metadata": {
        "_uuid": "48375caf3f2a7bbd774d9fe5c38fd3d06eabdd01",
        "id": "DqLKxWovK43f"
      },
      "source": [
        "**engine-size** has the highest correlation with **price** let us use that column."
      ]
    },
    {
      "cell_type": "code",
      "execution_count": null,
      "metadata": {
        "_uuid": "a9ff30bf2b419384c57d8ccfafc09253f471f978",
        "id": "QP4tLsGiK43l"
      },
      "outputs": [],
      "source": [
        "final_data = data[['engine-size', 'price']]\n",
        "predictor = data['engine-size']\n",
        "target = data['price']"
      ]
    },
    {
      "cell_type": "code",
      "execution_count": null,
      "metadata": {
        "_uuid": "60e561977a2f12ac1f741a0924127e68c487ce2e",
        "id": "CDKKjlr1K43l",
        "outputId": "c76f72a3-532a-4bd2-8404-875449a4261c"
      },
      "outputs": [
        {
          "data": {
            "image/png": "[encoded data removed]",
            "text/plain": [
              "<Figure size 576x360 with 1 Axes>"
            ]
          },
          "metadata": {},
          "output_type": "display_data"
        }
      ],
      "source": [
        "plt.figure(figsize=(8,5))\n",
        "plt.title(\"Price vs engine-size\")\n",
        "plt.scatter(predictor, target, color = \"#247ba0\")\n",
        "plt.xlabel('engine-size')\n",
        "plt.ylabel('price')\n",
        "plt.show()"
      ]
    },
    {
      "cell_type": "markdown",
      "metadata": {
        "_uuid": "67237757bfc2174b818744aa71a057bcf3638f00",
        "id": "CFCr0ZEOK43l"
      },
      "source": [
        "Above is our data points. We will now fit our linear regression line in those data points"
      ]
    },
    {
      "cell_type": "markdown",
      "metadata": {
        "_uuid": "955e787d703ee6bff69e9f7b3b3cf0578dbe30b6",
        "id": "ttl3e971K43l"
      },
      "source": [
        "#### Prediction"
      ]
    },
    {
      "cell_type": "code",
      "execution_count": null,
      "metadata": {
        "_uuid": "c928f74a12928ffde8de79cfb413861883d78e0a",
        "id": "BNjjdOJdK43l"
      },
      "outputs": [],
      "source": [
        "b1 = slope(predictor, target)\n",
        "b0 = intercept(predictor, target, b1)\n",
        "predicted = linear(predictor, b0, b1)\n",
        "# print(predicted) - Uncomment to see predicted values"
      ]
    },
    {
      "cell_type": "code",
      "execution_count": null,
      "metadata": {
        "_uuid": "96202552face6d617c8efadff5bfed83eac797be",
        "id": "vzwFC511K43l",
        "outputId": "012fc922-45d0-4590-bb5d-bef9bf2c44c9"
      },
      "outputs": [
        {
          "data": {
            "image/png": "[encoded data removed]",
            "text/plain": [
              "<Figure size 576x360 with 1 Axes>"
            ]
          },
          "metadata": {},
          "output_type": "display_data"
        }
      ],
      "source": [
        "plt.figure(figsize = (8, 5))\n",
        "plt.plot(predictor, predicted, color = '#f25f5c')\n",
        "plt.scatter(predictor, predicted, color = '#f25f5c')\n",
        "plt.title('Predicted values by Linear Regression', fontsize = 15)\n",
        "plt.xlabel('engine-size')\n",
        "plt.ylabel('price')\n",
        "plt.scatter(predictor, target, color = \"#247ba0\")\n",
        "plt.show()"
      ]
    },
    {
      "cell_type": "code",
      "execution_count": null,
      "metadata": {
        "_uuid": "d703094fc10e57a7cf4bda4a9ab936ee741cca25",
        "id": "UfzK8iLwK43l",
        "outputId": "01a46b78-27d8-46cc-8698-fd89afcc4694"
      },
      "outputs": [
        {
          "name": "stdout",
          "output_type": "stream",
          "text": [
            "Coefficients:\n",
            "=============\n",
            "b0 :  -7963.338906281075\n",
            "b1 :  166.8600156914162\n"
          ]
        }
      ],
      "source": [
        "print(\"Coefficients:\\n=============\")\n",
        "print(\"b0 : \", b0)\n",
        "print(\"b1 : \", b1)"
      ]
    },
    {
      "cell_type": "markdown",
      "metadata": {
        "_uuid": "9ce539a22050899de5802dba2e66e2508cdf8138",
        "id": "7gIKPDmlK43m"
      },
      "source": [
        "The red line above is our predicted values, it is the \"line that best fits the data\". Our linear regression prediction is done the next thing we're going to do is to evaluate how well does this regression line fits our data."
      ]
    },
    {
      "cell_type": "markdown",
      "metadata": {
        "_uuid": "a0a7289624ec4c9ad19e8452f63d0f6e51ab22ba",
        "id": "HtxHdqYsK43m"
      },
      "source": [
        "#### Evaluation"
      ]
    },
    {
      "cell_type": "markdown",
      "metadata": {
        "_uuid": "8fe393db520ff83f02f309e7142f360fd1549333",
        "id": "BlO1DEsPK43m"
      },
      "source": [
        "After prediction a data scientist should always show how was the performance of the model using different evaluation metrics. One of the most important evaluation metric for linear regression is the coefficient of determination also known as R-squared value ($ R^2 $). The $ R^2 $ is basically a statistical measure of how close the data are to the fitted regression line, by \"data\" it means our independent variable data, the **engine-size** data. Usually, the larger the $R^2$ value is, the better the model fits the data."
      ]
    },
    {
      "cell_type": "markdown",
      "metadata": {
        "_uuid": "fa2803a113559dd4fd99b0f1a7e973e1b9b6050a",
        "id": "MNUWd29BK43m"
      },
      "source": [
        "$ R^2 $ is defined as :"
      ]
    },
    {
      "cell_type": "markdown",
      "metadata": {
        "_uuid": "0160eecde1a6d70192563ae13ceec47349725275",
        "id": "FnXL9vcyK43m"
      },
      "source": [
        "\\begin{align}\n",
        "r^2 = \\frac{SS_{regression}}{SS_{total}}\n",
        "\\end{align}"
      ]
    },
    {
      "cell_type": "markdown",
      "metadata": {
        "_uuid": "529f55405080ea8f87196f8ac04ea0d291f8508a",
        "id": "oR1goghXK43m"
      },
      "source": [
        "\\begin{align}\n",
        "r^2 = 1 - \\frac{SS_{error}}{SS_{total}}\n",
        "\\end{align}"
      ]
    },
    {
      "cell_type": "markdown",
      "metadata": {
        "_uuid": "96821d1d638772618848c5775ab4295096ed3d22",
        "id": "rl3rzdpCK43m"
      },
      "source": [
        "Where:\n",
        " - $ SS_{regression} $ - \"regression sum of squares\"; quantifies how far the predicted value is from the mean\n",
        " - $ SS_{error} $ - \"error sum of squares\"; quantifies the variance of the target data points around the regression line\n",
        " - $ SS_{total} $ - \"total sum of squares\"; quantifies the variance of the target data points around the mean"
      ]
    },
    {
      "cell_type": "markdown",
      "metadata": {
        "_uuid": "ff69ba89815f1e798a9f728bb5694da7548cf862",
        "id": "-u7BYlJaK43m"
      },
      "source": [
        "\\begin{align}\n",
        "SS_{regression} = \\sum_{i=1}^m(\\hat y_i - \\bar y)^2\n",
        "\\end{align}"
      ]
    },
    {
      "cell_type": "markdown",
      "metadata": {
        "_uuid": "8339fa4aa78d4ce4553680b6a964deff6e783ba0",
        "id": "jR_u2TlEK43m"
      },
      "source": [
        "\\begin{align}\n",
        "SS_{error} = \\sum_{i=1}^m(y_i - \\hat y)^2\n",
        "\\end{align}"
      ]
    },
    {
      "cell_type": "markdown",
      "metadata": {
        "_uuid": "8abe409c6676edc9f8a1d720f67588b1dfd16459",
        "id": "NHUqXZc7K43m"
      },
      "source": [
        "\\begin{align}\n",
        "SS_{total} = \\sum_{i=1}^m(y_i - \\bar y)^2\n",
        "\\end{align}"
      ]
    },
    {
      "cell_type": "markdown",
      "metadata": {
        "_uuid": "5b1e96bca9a2968fe9e815387aefe34a61d795f3",
        "id": "iNoVLgqZK43m"
      },
      "source": [
        "In python code:"
      ]
    },
    {
      "cell_type": "code",
      "execution_count": null,
      "metadata": {
        "_uuid": "cf46035bfb3feba94733d9716804c698aa191a2a",
        "id": "AXCuw8HUK43m"
      },
      "outputs": [],
      "source": [
        "def r_squared(Y, Y_HAT):\n",
        "    ssr, sse, r_sqr = [0]*3\n",
        "    y_ = np.mean(Y)\n",
        "#     ssr = sum([(y_hat - y_)**2 for y_hat in Y_HAT])\n",
        "    sse = sum([(y - y_hat)**2 for y,y_hat in zip(Y, Y_HAT)])\n",
        "    sst = sum([(y - y_)**2 for y in Y])\n",
        "\n",
        "    r_sqr = 1 - (sse / sst)\n",
        "\n",
        "    return r_sqr\n",
        ""
      ]
    },
    {
      "cell_type": "code",
      "execution_count": null,
      "metadata": {
        "_uuid": "8ec873da1b3c47881d7aeffdf14f73f4827874fe",
        "id": "djL-Jk6nK43m",
        "outputId": "fd44088a-1107-4438-9a2e-0df5dfd9825f"
      },
      "outputs": [
        {
          "data": {
            "text/plain": [
              "0.7609686443622008"
            ]
          },
          "execution_count": 18,
          "metadata": {},
          "output_type": "execute_result"
        }
      ],
      "source": [
        "r_squared(target, predicted)"
      ]
    },
    {
      "cell_type": "markdown",
      "metadata": {
        "_uuid": "704dbd5f2d1d35fc856f5ac83f9684c8d52efda7",
        "id": "KRUvyPu0K43m"
      },
      "source": [
        "76% not bad for a LR model from scratch."
      ]
    },
    {
      "cell_type": "markdown",
      "metadata": {
        "_uuid": "d1e23082890d32944509c7afa2dd72fc794afd8f",
        "id": "lo1wzYY0K43m"
      },
      "source": [
        "For comparison I will implement linear regression using python's scikit-learn library."
      ]
    },
    {
      "cell_type": "code",
      "execution_count": null,
      "metadata": {
        "_uuid": "8600087194bb026ccad9670990177c4c5a303450",
        "id": "kbkCdtQSK43n",
        "outputId": "8fbc0e7f-2050-4062-b1a2-10e7123614f9"
      },
      "outputs": [
        {
          "name": "stdout",
          "output_type": "stream",
          "text": [
            "0.7609686443622008\n"
          ]
        }
      ],
      "source": [
        "from sklearn.linear_model import LinearRegression\n",
        "from sklearn.metrics import mean_squared_error\n",
        "\n",
        "reg = LinearRegression()\n",
        "predictor = np.array(predictor).reshape((-1, 1))\n",
        "reg = reg.fit(predictor, target)\n",
        "\n",
        "Y_pred = reg.predict(predictor)\n",
        "r2_score = reg.score(predictor, target)\n",
        "print(r2_score)"
      ]
    },
    {
      "cell_type": "markdown",
      "metadata": {
        "_uuid": "b04894fa62194439a118855f1df3f89e6d2aab27",
        "id": "6z8oHs1XK43n"
      },
      "source": [
        "Same $r^2$"
      ]
    },
    {
      "cell_type": "markdown",
      "metadata": {
        "_uuid": "620e68719868e959b2b6b6e4f215b4db6d53ba83",
        "id": "T3oMxt9vK43n"
      },
      "source": [
        "## Summary and Conclusion"
      ]
    },
    {
      "cell_type": "markdown",
      "metadata": {
        "_uuid": "913b7c1656be72e6f03068109bae129d70043b7d",
        "id": "HZnSvMMuK43o"
      },
      "source": [
        "In this kernel, we've created the simplest Linear Regression model you could ever imagine, using Python. We've also understood the mathematics that is happening behind our model. Using one predictor variable and target variable we've implemented our Linear Regression model in a simple analytics use case, that is predicting the price of a car based on it's engine size. Evaluation shows that our linear regression performs exactly the same as sklearn's Linear Regression model, which is nice."
      ]
    },
    {
      "cell_type": "markdown",
      "metadata": {
        "_uuid": "93bdb7ea11936552c432776210e9a47211379fa1",
        "id": "qgNxmoTGK43o"
      },
      "source": [
        "To wrap things up let us look back to the objectives we've set at the beggining of this kernel and see if we've accomplished them. The first objective was to understand the theory behind Linear Regression. A couple of mathematical equations here and there, hopefully you were able to learn those mathematical and statistical mumbo-jumbo I have discussed in the section **Linear Regression demistyfied**. The second objective was to create a Simple Linear Regression model without using built-in ML libraries. Using python and some helper libraries (pandas and numpy) we were able to accomplish our second objective in the section **Linear Regression, up and running**. In the same section, we've also implemented our model to a simple analytics use case which answers our third objective.\n"
      ]
    },
    {
      "cell_type": "markdown",
      "metadata": {
        "_uuid": "5b5e83f7f6724c6cebb1e33a1b28ceb769e3c118",
        "id": "xM5jiSYvK43o"
      },
      "source": [
        "This linear regression implementation would probably be never used in production and it is unlikely that it will defeat sklearn's own LinearRegression module, however the goal of this kernel was to understand intrecately the structure of different algorithms, in this case, Linear Regression. This kernel helps me as much as it helps you. If you liked this kernel please leave an upvote, and please, do check-out my other \"from scratch\" kernels. thank you .\n"
      ]
    },
    {
      "cell_type": "markdown",
      "metadata": {
        "_uuid": "0e31629ce282a0503e4e18ef8fbfb54df6bdc9cf",
        "id": "W3AjW_heK43o"
      },
      "source": [
        "## References"
      ]
    },
    {
      "cell_type": "markdown",
      "metadata": {
        "_uuid": "b9646edd900cd797bafce3706bb864eda36ed140",
        "id": "3jphIfV3K43o"
      },
      "source": []
    }
  ],
  "metadata": {
    "hide_input": false,
    "kernelspec": {
      "display_name": "Python 3",
      "language": "python",
      "name": "python3"
    },
    "language_info": {
      "codemirror_mode": {
        "name": "ipython",
        "version": 3
      },
      "file_extension": ".py",
      "mimetype": "text/x-python",
      "name": "python",
      "nbconvert_exporter": "python",
      "pygments_lexer": "ipython3",
      "version": "3.8.8"
    },
    "toc": {
      "base_numbering": 1,
      "nav_menu": {},
      "number_sections": true,
      "sideBar": true,
      "skip_h1_title": true,
      "title_cell": "Table of Contents",
      "title_sidebar": "Contents",
      "toc_cell": true,
      "toc_position": {},
      "toc_section_display": true,
      "toc_window_display": false
    },
    "colab": {
      "provenance": [],
      "include_colab_link": true
    }
  },
  "nbformat": 4,
  "nbformat_minor": 0
}